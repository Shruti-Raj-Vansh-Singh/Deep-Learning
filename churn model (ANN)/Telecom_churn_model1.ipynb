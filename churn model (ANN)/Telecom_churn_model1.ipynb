{
  "nbformat": 4,
  "nbformat_minor": 0,
  "metadata": {
    "colab": {
      "name": "Telecom churn model1.ipynb",
      "provenance": [],
      "collapsed_sections": []
    },
    "kernelspec": {
      "name": "python3",
      "display_name": "Python 3"
    }
  },
  "cells": [
    {
      "cell_type": "code",
      "metadata": {
        "id": "EZQRnIimlSVn",
        "colab_type": "code",
        "colab": {}
      },
      "source": [
        "import pandas as pd\n",
        "import numpy as np\n",
        "import seaborn as sns\n",
        "import matplotlib.pyplot as plt\n",
        "import seaborn as sns\n",
        "from tensorflow.keras.models import Sequential\n",
        "from tensorflow.keras.layers import Dense\n",
        "from tensorflow.keras.layers import Activation\n",
        "from tensorflow.keras.layers import BatchNormalization\n",
        "from sklearn.model_selection import KFold"
      ],
      "execution_count": 0,
      "outputs": []
    },
    {
      "cell_type": "code",
      "metadata": {
        "id": "uDECgSKpm0Um",
        "colab_type": "code",
        "outputId": "08c83cb0-13d3-4d3f-d046-185865bc894f",
        "colab": {
          "resources": {
            "http://localhost:8080/nbextensions/google.colab/files.js": {
              "data": "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",
              "ok": true,
              "headers": [
                [
                  "content-type",
                  "application/javascript"
                ]
              ],
              "status": 200,
              "status_text": ""
            }
          },
          "base_uri": "https://localhost:8080/",
          "height": 74
        }
      },
      "source": [
        "from google.colab import files\n",
        "uploaded = files.upload()"
      ],
      "execution_count": 0,
      "outputs": [
        {
          "output_type": "display_data",
          "data": {
            "text/html": [
              "\n",
              "     <input type=\"file\" id=\"files-7999e207-5268-4f55-8058-60c7a3ba332a\" name=\"files[]\" multiple disabled />\n",
              "     <output id=\"result-7999e207-5268-4f55-8058-60c7a3ba332a\">\n",
              "      Upload widget is only available when the cell has been executed in the\n",
              "      current browser session. Please rerun this cell to enable.\n",
              "      </output>\n",
              "      <script src=\"/nbextensions/google.colab/files.js\"></script> "
            ],
            "text/plain": [
              "<IPython.core.display.HTML object>"
            ]
          },
          "metadata": {
            "tags": []
          }
        },
        {
          "output_type": "stream",
          "text": [
            "Saving telecom_churn.csv to telecom_churn.csv\n"
          ],
          "name": "stdout"
        }
      ]
    },
    {
      "cell_type": "code",
      "metadata": {
        "id": "t1LyytQ6m7mk",
        "colab_type": "code",
        "colab": {}
      },
      "source": [
        "import io\n",
        "dataset = pd.read_csv(io.BytesIO(uploaded['telecom_churn.csv']))"
      ],
      "execution_count": 0,
      "outputs": []
    },
    {
      "cell_type": "code",
      "metadata": {
        "id": "KJrIhRBJn-WS",
        "colab_type": "code",
        "outputId": "fc7471d6-fbdd-4542-dc1f-faa559704fa3",
        "colab": {
          "base_uri": "https://localhost:8080/",
          "height": 313
        }
      },
      "source": [
        "dataset.head()"
      ],
      "execution_count": 0,
      "outputs": [
        {
          "output_type": "execute_result",
          "data": {
            "text/html": [
              "<div>\n",
              "<style scoped>\n",
              "    .dataframe tbody tr th:only-of-type {\n",
              "        vertical-align: middle;\n",
              "    }\n",
              "\n",
              "    .dataframe tbody tr th {\n",
              "        vertical-align: top;\n",
              "    }\n",
              "\n",
              "    .dataframe thead th {\n",
              "        text-align: right;\n",
              "    }\n",
              "</style>\n",
              "<table border=\"1\" class=\"dataframe\">\n",
              "  <thead>\n",
              "    <tr style=\"text-align: right;\">\n",
              "      <th></th>\n",
              "      <th>state</th>\n",
              "      <th>account length</th>\n",
              "      <th>area code</th>\n",
              "      <th>phone number</th>\n",
              "      <th>international plan</th>\n",
              "      <th>voice mail plan</th>\n",
              "      <th>number vmail messages</th>\n",
              "      <th>total day minutes</th>\n",
              "      <th>total day calls</th>\n",
              "      <th>total day charge</th>\n",
              "      <th>total eve minutes</th>\n",
              "      <th>total eve calls</th>\n",
              "      <th>total eve charge</th>\n",
              "      <th>total night minutes</th>\n",
              "      <th>total night calls</th>\n",
              "      <th>total night charge</th>\n",
              "      <th>total intl minutes</th>\n",
              "      <th>total intl calls</th>\n",
              "      <th>total intl charge</th>\n",
              "      <th>customer service calls</th>\n",
              "      <th>churn</th>\n",
              "    </tr>\n",
              "  </thead>\n",
              "  <tbody>\n",
              "    <tr>\n",
              "      <th>0</th>\n",
              "      <td>KS</td>\n",
              "      <td>128</td>\n",
              "      <td>415</td>\n",
              "      <td>382-4657</td>\n",
              "      <td>no</td>\n",
              "      <td>yes</td>\n",
              "      <td>25</td>\n",
              "      <td>265.1</td>\n",
              "      <td>110</td>\n",
              "      <td>45.07</td>\n",
              "      <td>197.4</td>\n",
              "      <td>99</td>\n",
              "      <td>16.78</td>\n",
              "      <td>244.7</td>\n",
              "      <td>91</td>\n",
              "      <td>11.01</td>\n",
              "      <td>10.0</td>\n",
              "      <td>3</td>\n",
              "      <td>2.70</td>\n",
              "      <td>1</td>\n",
              "      <td>False</td>\n",
              "    </tr>\n",
              "    <tr>\n",
              "      <th>1</th>\n",
              "      <td>OH</td>\n",
              "      <td>107</td>\n",
              "      <td>415</td>\n",
              "      <td>371-7191</td>\n",
              "      <td>no</td>\n",
              "      <td>yes</td>\n",
              "      <td>26</td>\n",
              "      <td>161.6</td>\n",
              "      <td>123</td>\n",
              "      <td>27.47</td>\n",
              "      <td>195.5</td>\n",
              "      <td>103</td>\n",
              "      <td>16.62</td>\n",
              "      <td>254.4</td>\n",
              "      <td>103</td>\n",
              "      <td>11.45</td>\n",
              "      <td>13.7</td>\n",
              "      <td>3</td>\n",
              "      <td>3.70</td>\n",
              "      <td>1</td>\n",
              "      <td>False</td>\n",
              "    </tr>\n",
              "    <tr>\n",
              "      <th>2</th>\n",
              "      <td>NJ</td>\n",
              "      <td>137</td>\n",
              "      <td>415</td>\n",
              "      <td>358-1921</td>\n",
              "      <td>no</td>\n",
              "      <td>no</td>\n",
              "      <td>0</td>\n",
              "      <td>243.4</td>\n",
              "      <td>114</td>\n",
              "      <td>41.38</td>\n",
              "      <td>121.2</td>\n",
              "      <td>110</td>\n",
              "      <td>10.30</td>\n",
              "      <td>162.6</td>\n",
              "      <td>104</td>\n",
              "      <td>7.32</td>\n",
              "      <td>12.2</td>\n",
              "      <td>5</td>\n",
              "      <td>3.29</td>\n",
              "      <td>0</td>\n",
              "      <td>False</td>\n",
              "    </tr>\n",
              "    <tr>\n",
              "      <th>3</th>\n",
              "      <td>OH</td>\n",
              "      <td>84</td>\n",
              "      <td>408</td>\n",
              "      <td>375-9999</td>\n",
              "      <td>yes</td>\n",
              "      <td>no</td>\n",
              "      <td>0</td>\n",
              "      <td>299.4</td>\n",
              "      <td>71</td>\n",
              "      <td>50.90</td>\n",
              "      <td>61.9</td>\n",
              "      <td>88</td>\n",
              "      <td>5.26</td>\n",
              "      <td>196.9</td>\n",
              "      <td>89</td>\n",
              "      <td>8.86</td>\n",
              "      <td>6.6</td>\n",
              "      <td>7</td>\n",
              "      <td>1.78</td>\n",
              "      <td>2</td>\n",
              "      <td>False</td>\n",
              "    </tr>\n",
              "    <tr>\n",
              "      <th>4</th>\n",
              "      <td>OK</td>\n",
              "      <td>75</td>\n",
              "      <td>415</td>\n",
              "      <td>330-6626</td>\n",
              "      <td>yes</td>\n",
              "      <td>no</td>\n",
              "      <td>0</td>\n",
              "      <td>166.7</td>\n",
              "      <td>113</td>\n",
              "      <td>28.34</td>\n",
              "      <td>148.3</td>\n",
              "      <td>122</td>\n",
              "      <td>12.61</td>\n",
              "      <td>186.9</td>\n",
              "      <td>121</td>\n",
              "      <td>8.41</td>\n",
              "      <td>10.1</td>\n",
              "      <td>3</td>\n",
              "      <td>2.73</td>\n",
              "      <td>3</td>\n",
              "      <td>False</td>\n",
              "    </tr>\n",
              "  </tbody>\n",
              "</table>\n",
              "</div>"
            ],
            "text/plain": [
              "  state  account length  ...  customer service calls  churn\n",
              "0    KS             128  ...                       1  False\n",
              "1    OH             107  ...                       1  False\n",
              "2    NJ             137  ...                       0  False\n",
              "3    OH              84  ...                       2  False\n",
              "4    OK              75  ...                       3  False\n",
              "\n",
              "[5 rows x 21 columns]"
            ]
          },
          "metadata": {
            "tags": []
          },
          "execution_count": 4
        }
      ]
    },
    {
      "cell_type": "code",
      "metadata": {
        "id": "D6Kfd7I3oJ65",
        "colab_type": "code",
        "outputId": "025393d2-ed47-4b7a-8702-6c04fbb224dd",
        "colab": {
          "base_uri": "https://localhost:8080/",
          "height": 487
        }
      },
      "source": [
        "dataset.info()"
      ],
      "execution_count": 0,
      "outputs": [
        {
          "output_type": "stream",
          "text": [
            "<class 'pandas.core.frame.DataFrame'>\n",
            "RangeIndex: 3333 entries, 0 to 3332\n",
            "Data columns (total 21 columns):\n",
            " #   Column                  Non-Null Count  Dtype  \n",
            "---  ------                  --------------  -----  \n",
            " 0   state                   3333 non-null   object \n",
            " 1   account length          3333 non-null   int64  \n",
            " 2   area code               3333 non-null   int64  \n",
            " 3   phone number            3333 non-null   object \n",
            " 4   international plan      3333 non-null   object \n",
            " 5   voice mail plan         3333 non-null   object \n",
            " 6   number vmail messages   3333 non-null   int64  \n",
            " 7   total day minutes       3333 non-null   float64\n",
            " 8   total day calls         3333 non-null   int64  \n",
            " 9   total day charge        3333 non-null   float64\n",
            " 10  total eve minutes       3333 non-null   float64\n",
            " 11  total eve calls         3333 non-null   int64  \n",
            " 12  total eve charge        3333 non-null   float64\n",
            " 13  total night minutes     3333 non-null   float64\n",
            " 14  total night calls       3333 non-null   int64  \n",
            " 15  total night charge      3333 non-null   float64\n",
            " 16  total intl minutes      3333 non-null   float64\n",
            " 17  total intl calls        3333 non-null   int64  \n",
            " 18  total intl charge       3333 non-null   float64\n",
            " 19  customer service calls  3333 non-null   int64  \n",
            " 20  churn                   3333 non-null   bool   \n",
            "dtypes: bool(1), float64(8), int64(8), object(4)\n",
            "memory usage: 524.2+ KB\n"
          ],
          "name": "stdout"
        }
      ]
    },
    {
      "cell_type": "markdown",
      "metadata": {
        "id": "NPsckP61oc8Z",
        "colab_type": "text"
      },
      "source": [
        "Since the output variable churn is in boolean we can convert into int so that our output is 0 or 1\n",
        "\n",
        "1 - The customer left\n",
        "\n",
        "0- didnt leave"
      ]
    },
    {
      "cell_type": "code",
      "metadata": {
        "id": "Gwonb9XboN9b",
        "colab_type": "code",
        "colab": {}
      },
      "source": [
        "dataset['churn'] = dataset['churn'].astype('int64')"
      ],
      "execution_count": 0,
      "outputs": []
    },
    {
      "cell_type": "code",
      "metadata": {
        "id": "alevro6Jox0f",
        "colab_type": "code",
        "outputId": "4acc7782-7ce2-41c1-dcc1-01d17da075da",
        "colab": {
          "base_uri": "https://localhost:8080/",
          "height": 67
        }
      },
      "source": [
        "dataset['churn'].value_counts(normalize=True)"
      ],
      "execution_count": 0,
      "outputs": [
        {
          "output_type": "execute_result",
          "data": {
            "text/plain": [
              "0    0.855086\n",
              "1    0.144914\n",
              "Name: churn, dtype: float64"
            ]
          },
          "metadata": {
            "tags": []
          },
          "execution_count": 7
        }
      ]
    },
    {
      "cell_type": "code",
      "metadata": {
        "id": "IHX30bpCqWTW",
        "colab_type": "code",
        "outputId": "0f34b9e4-b98a-4a3f-a662-5acb4884aaed",
        "colab": {
          "base_uri": "https://localhost:8080/",
          "height": 725
        }
      },
      "source": [
        "plt.subplots(figsize=(15,10))\n",
        "features = list(set(dataset.columns)-set(['state','international plan', 'voice mail plan','churn']))\n",
        "corr_matrix = dataset[features].corr()\n",
        "sns.heatmap(corr_matrix,annot=True)"
      ],
      "execution_count": 0,
      "outputs": [
        {
          "output_type": "execute_result",
          "data": {
            "text/plain": [
              "<matplotlib.axes._subplots.AxesSubplot at 0x7f492200c3c8>"
            ]
          },
          "metadata": {
            "tags": []
          },
          "execution_count": 8
        },
        {
          "output_type": "display_data",
          "data": {
            "image/png": "[encoded data removed]",
            "text/plain": [
              "<Figure size 1080x720 with 2 Axes>"
            ]
          },
          "metadata": {
            "tags": [],
            "needs_background": "light"
          }
        }
      ]
    },
    {
      "cell_type": "markdown",
      "metadata": {
        "id": "FYbYbDemvjZ2",
        "colab_type": "text"
      },
      "source": [
        "clearly total evening minutes and total eve charges are completely depend smilar is the case wiht total international minutes and charges, total day minutes and chages and total night minutes and charges. so we will drop the total charges."
      ]
    },
    {
      "cell_type": "code",
      "metadata": {
        "id": "NnwpjqKhvBPM",
        "colab_type": "code",
        "outputId": "14190131-1acc-439a-ee69-8ca80e3ad4c9",
        "colab": {
          "base_uri": "https://localhost:8080/",
          "height": 313
        }
      },
      "source": [
        "dataset.drop(columns=['total day charge','total intl charge','total eve charge','total night charge'],axis=1,inplace=True)\n",
        "dataset.head()"
      ],
      "execution_count": 0,
      "outputs": [
        {
          "output_type": "execute_result",
          "data": {
            "text/html": [
              "<div>\n",
              "<style scoped>\n",
              "    .dataframe tbody tr th:only-of-type {\n",
              "        vertical-align: middle;\n",
              "    }\n",
              "\n",
              "    .dataframe tbody tr th {\n",
              "        vertical-align: top;\n",
              "    }\n",
              "\n",
              "    .dataframe thead th {\n",
              "        text-align: right;\n",
              "    }\n",
              "</style>\n",
              "<table border=\"1\" class=\"dataframe\">\n",
              "  <thead>\n",
              "    <tr style=\"text-align: right;\">\n",
              "      <th></th>\n",
              "      <th>state</th>\n",
              "      <th>account length</th>\n",
              "      <th>area code</th>\n",
              "      <th>phone number</th>\n",
              "      <th>international plan</th>\n",
              "      <th>voice mail plan</th>\n",
              "      <th>number vmail messages</th>\n",
              "      <th>total day minutes</th>\n",
              "      <th>total day calls</th>\n",
              "      <th>total eve minutes</th>\n",
              "      <th>total eve calls</th>\n",
              "      <th>total night minutes</th>\n",
              "      <th>total night calls</th>\n",
              "      <th>total intl minutes</th>\n",
              "      <th>total intl calls</th>\n",
              "      <th>customer service calls</th>\n",
              "      <th>churn</th>\n",
              "    </tr>\n",
              "  </thead>\n",
              "  <tbody>\n",
              "    <tr>\n",
              "      <th>0</th>\n",
              "      <td>KS</td>\n",
              "      <td>128</td>\n",
              "      <td>415</td>\n",
              "      <td>382-4657</td>\n",
              "      <td>no</td>\n",
              "      <td>yes</td>\n",
              "      <td>25</td>\n",
              "      <td>265.1</td>\n",
              "      <td>110</td>\n",
              "      <td>197.4</td>\n",
              "      <td>99</td>\n",
              "      <td>244.7</td>\n",
              "      <td>91</td>\n",
              "      <td>10.0</td>\n",
              "      <td>3</td>\n",
              "      <td>1</td>\n",
              "      <td>0</td>\n",
              "    </tr>\n",
              "    <tr>\n",
              "      <th>1</th>\n",
              "      <td>OH</td>\n",
              "      <td>107</td>\n",
              "      <td>415</td>\n",
              "      <td>371-7191</td>\n",
              "      <td>no</td>\n",
              "      <td>yes</td>\n",
              "      <td>26</td>\n",
              "      <td>161.6</td>\n",
              "      <td>123</td>\n",
              "      <td>195.5</td>\n",
              "      <td>103</td>\n",
              "      <td>254.4</td>\n",
              "      <td>103</td>\n",
              "      <td>13.7</td>\n",
              "      <td>3</td>\n",
              "      <td>1</td>\n",
              "      <td>0</td>\n",
              "    </tr>\n",
              "    <tr>\n",
              "      <th>2</th>\n",
              "      <td>NJ</td>\n",
              "      <td>137</td>\n",
              "      <td>415</td>\n",
              "      <td>358-1921</td>\n",
              "      <td>no</td>\n",
              "      <td>no</td>\n",
              "      <td>0</td>\n",
              "      <td>243.4</td>\n",
              "      <td>114</td>\n",
              "      <td>121.2</td>\n",
              "      <td>110</td>\n",
              "      <td>162.6</td>\n",
              "      <td>104</td>\n",
              "      <td>12.2</td>\n",
              "      <td>5</td>\n",
              "      <td>0</td>\n",
              "      <td>0</td>\n",
              "    </tr>\n",
              "    <tr>\n",
              "      <th>3</th>\n",
              "      <td>OH</td>\n",
              "      <td>84</td>\n",
              "      <td>408</td>\n",
              "      <td>375-9999</td>\n",
              "      <td>yes</td>\n",
              "      <td>no</td>\n",
              "      <td>0</td>\n",
              "      <td>299.4</td>\n",
              "      <td>71</td>\n",
              "      <td>61.9</td>\n",
              "      <td>88</td>\n",
              "      <td>196.9</td>\n",
              "      <td>89</td>\n",
              "      <td>6.6</td>\n",
              "      <td>7</td>\n",
              "      <td>2</td>\n",
              "      <td>0</td>\n",
              "    </tr>\n",
              "    <tr>\n",
              "      <th>4</th>\n",
              "      <td>OK</td>\n",
              "      <td>75</td>\n",
              "      <td>415</td>\n",
              "      <td>330-6626</td>\n",
              "      <td>yes</td>\n",
              "      <td>no</td>\n",
              "      <td>0</td>\n",
              "      <td>166.7</td>\n",
              "      <td>113</td>\n",
              "      <td>148.3</td>\n",
              "      <td>122</td>\n",
              "      <td>186.9</td>\n",
              "      <td>121</td>\n",
              "      <td>10.1</td>\n",
              "      <td>3</td>\n",
              "      <td>3</td>\n",
              "      <td>0</td>\n",
              "    </tr>\n",
              "  </tbody>\n",
              "</table>\n",
              "</div>"
            ],
            "text/plain": [
              "  state  account length  ...  customer service calls churn\n",
              "0    KS             128  ...                       1     0\n",
              "1    OH             107  ...                       1     0\n",
              "2    NJ             137  ...                       0     0\n",
              "3    OH              84  ...                       2     0\n",
              "4    OK              75  ...                       3     0\n",
              "\n",
              "[5 rows x 17 columns]"
            ]
          },
          "metadata": {
            "tags": []
          },
          "execution_count": 9
        }
      ]
    },
    {
      "cell_type": "markdown",
      "metadata": {
        "id": "zTZjg4YTDDrv",
        "colab_type": "text"
      },
      "source": [
        "Preprocessing"
      ]
    },
    {
      "cell_type": "code",
      "metadata": {
        "id": "CmRL5GiDwrvI",
        "colab_type": "code",
        "colab": {}
      },
      "source": [
        "\"\"\"X = dataset.drop(['churn'],axis=1).values\n",
        "y = dataset['churn'].values\"\"\""
      ],
      "execution_count": 0,
      "outputs": []
    },
    {
      "cell_type": "code",
      "metadata": {
        "id": "hQmmwgqXDkG4",
        "colab_type": "code",
        "outputId": "7262a6f1-3bc1-4e98-9762-889b2a99225e",
        "colab": {
          "base_uri": "https://localhost:8080/",
          "height": 67
        }
      },
      "source": [
        "\"\"\"from sklearn.preprocessing import LabelEncoder,OneHotEncoder\n",
        "encoder1 = LabelEncoder()\n",
        "X[:,4] = encoder1.fit_transform(X[:,4])\n",
        "encoder2 = LabelEncoder()\n",
        "X[:,5] = encoder2.fit_transform(X[:,5])\n",
        "encoder3 = LabelEncoder()\n",
        "X[:,0] = encoder3.fit_transform(X[:,0])\n",
        "print(X[:3,:])\"\"\""
      ],
      "execution_count": 0,
      "outputs": [
        {
          "output_type": "stream",
          "text": [
            "[[16 128 415 '382-4657' 0 1 25 265.1 110 197.4 99 244.7 91 10.0 3 1]\n",
            " [35 107 415 '371-7191' 0 1 26 161.6 123 195.5 103 254.4 103 13.7 3 1]\n",
            " [31 137 415 '358-1921' 0 0 0 243.4 114 121.2 110 162.6 104 12.2 5 0]]\n"
          ],
          "name": "stdout"
        }
      ]
    },
    {
      "cell_type": "code",
      "metadata": {
        "id": "qhL3G6nRFQGv",
        "colab_type": "code",
        "outputId": "53690513-218b-4b67-8e49-a0b1920b70f8",
        "colab": {
          "base_uri": "https://localhost:8080/",
          "height": 34
        }
      },
      "source": [
        "dataset['state'].nunique()"
      ],
      "execution_count": 0,
      "outputs": [
        {
          "output_type": "execute_result",
          "data": {
            "text/plain": [
              "51"
            ]
          },
          "metadata": {
            "tags": []
          },
          "execution_count": 12
        }
      ]
    },
    {
      "cell_type": "code",
      "metadata": {
        "id": "wRfpmga0EJm0",
        "colab_type": "code",
        "outputId": "2cd82e3e-7884-4b6e-ba63-f83c3bf954ea",
        "colab": {
          "base_uri": "https://localhost:8080/",
          "height": 421
        }
      },
      "source": [
        "'''from sklearn.compose import ColumnTransformer\n",
        "col_trans = ColumnTransformer([('one_hot_encoder',OneHotEncoder(categories='auto'),[0])], remainder = 'passthrough')\n",
        "X = col_trans.fit_transform(X)'''"
      ],
      "execution_count": 0,
      "outputs": [
        {
          "output_type": "error",
          "ename": "ValueError",
          "evalue": "ignored",
          "traceback": [
            "\u001b[0;31m---------------------------------------------------------------------------\u001b[0m",
            "\u001b[0;31mValueError\u001b[0m                                Traceback (most recent call last)",
            "\u001b[0;32m/usr/local/lib/python3.6/dist-packages/sklearn/compose/_column_transformer.py\u001b[0m in \u001b[0;36m_hstack\u001b[0;34m(self, Xs)\u001b[0m\n\u001b[1;32m    614\u001b[0m                                             force_all_finite=False)\n\u001b[0;32m--> 615\u001b[0;31m                                 for X in Xs]\n\u001b[0m\u001b[1;32m    616\u001b[0m             \u001b[0;32mexcept\u001b[0m \u001b[0mValueError\u001b[0m\u001b[0;34m:\u001b[0m\u001b[0;34m\u001b[0m\u001b[0;34m\u001b[0m\u001b[0m\n",
            "\u001b[0;32m/usr/local/lib/python3.6/dist-packages/sklearn/compose/_column_transformer.py\u001b[0m in \u001b[0;36m<listcomp>\u001b[0;34m(.0)\u001b[0m\n\u001b[1;32m    614\u001b[0m                                             force_all_finite=False)\n\u001b[0;32m--> 615\u001b[0;31m                                 for X in Xs]\n\u001b[0m\u001b[1;32m    616\u001b[0m             \u001b[0;32mexcept\u001b[0m \u001b[0mValueError\u001b[0m\u001b[0;34m:\u001b[0m\u001b[0;34m\u001b[0m\u001b[0;34m\u001b[0m\u001b[0m\n",
            "\u001b[0;32m/usr/local/lib/python3.6/dist-packages/sklearn/utils/validation.py\u001b[0m in \u001b[0;36mcheck_array\u001b[0;34m(array, accept_sparse, accept_large_sparse, dtype, order, copy, force_all_finite, ensure_2d, allow_nd, ensure_min_samples, ensure_min_features, warn_on_dtype, estimator)\u001b[0m\n\u001b[1;32m    530\u001b[0m                 \u001b[0;32melse\u001b[0m\u001b[0;34m:\u001b[0m\u001b[0;34m\u001b[0m\u001b[0;34m\u001b[0m\u001b[0m\n\u001b[0;32m--> 531\u001b[0;31m                     \u001b[0marray\u001b[0m \u001b[0;34m=\u001b[0m \u001b[0mnp\u001b[0m\u001b[0;34m.\u001b[0m\u001b[0masarray\u001b[0m\u001b[0;34m(\u001b[0m\u001b[0marray\u001b[0m\u001b[0;34m,\u001b[0m \u001b[0morder\u001b[0m\u001b[0;34m=\u001b[0m\u001b[0morder\u001b[0m\u001b[0;34m,\u001b[0m \u001b[0mdtype\u001b[0m\u001b[0;34m=\u001b[0m\u001b[0mdtype\u001b[0m\u001b[0;34m)\u001b[0m\u001b[0;34m\u001b[0m\u001b[0;34m\u001b[0m\u001b[0m\n\u001b[0m\u001b[1;32m    532\u001b[0m             \u001b[0;32mexcept\u001b[0m \u001b[0mComplexWarning\u001b[0m\u001b[0;34m:\u001b[0m\u001b[0;34m\u001b[0m\u001b[0;34m\u001b[0m\u001b[0m\n",
            "\u001b[0;32m/usr/local/lib/python3.6/dist-packages/numpy/core/_asarray.py\u001b[0m in \u001b[0;36masarray\u001b[0;34m(a, dtype, order)\u001b[0m\n\u001b[1;32m     84\u001b[0m     \"\"\"\n\u001b[0;32m---> 85\u001b[0;31m     \u001b[0;32mreturn\u001b[0m \u001b[0marray\u001b[0m\u001b[0;34m(\u001b[0m\u001b[0ma\u001b[0m\u001b[0;34m,\u001b[0m \u001b[0mdtype\u001b[0m\u001b[0;34m,\u001b[0m \u001b[0mcopy\u001b[0m\u001b[0;34m=\u001b[0m\u001b[0;32mFalse\u001b[0m\u001b[0;34m,\u001b[0m \u001b[0morder\u001b[0m\u001b[0;34m=\u001b[0m\u001b[0morder\u001b[0m\u001b[0;34m)\u001b[0m\u001b[0;34m\u001b[0m\u001b[0;34m\u001b[0m\u001b[0m\n\u001b[0m\u001b[1;32m     86\u001b[0m \u001b[0;34m\u001b[0m\u001b[0m\n",
            "\u001b[0;31mValueError\u001b[0m: could not convert string to float: '382-4657'",
            "\nDuring handling of the above exception, another exception occurred:\n",
            "\u001b[0;31mValueError\u001b[0m                                Traceback (most recent call last)",
            "\u001b[0;32m<ipython-input-13-203a79a7bd01>\u001b[0m in \u001b[0;36m<module>\u001b[0;34m()\u001b[0m\n\u001b[1;32m      1\u001b[0m \u001b[0;32mfrom\u001b[0m \u001b[0msklearn\u001b[0m\u001b[0;34m.\u001b[0m\u001b[0mcompose\u001b[0m \u001b[0;32mimport\u001b[0m \u001b[0mColumnTransformer\u001b[0m\u001b[0;34m\u001b[0m\u001b[0;34m\u001b[0m\u001b[0m\n\u001b[1;32m      2\u001b[0m \u001b[0mcol_trans\u001b[0m \u001b[0;34m=\u001b[0m \u001b[0mColumnTransformer\u001b[0m\u001b[0;34m(\u001b[0m\u001b[0;34m[\u001b[0m\u001b[0;34m(\u001b[0m\u001b[0;34m'one_hot_encoder'\u001b[0m\u001b[0;34m,\u001b[0m\u001b[0mOneHotEncoder\u001b[0m\u001b[0;34m(\u001b[0m\u001b[0mcategories\u001b[0m\u001b[0;34m=\u001b[0m\u001b[0;34m'auto'\u001b[0m\u001b[0;34m)\u001b[0m\u001b[0;34m,\u001b[0m\u001b[0;34m[\u001b[0m\u001b[0;36m0\u001b[0m\u001b[0;34m]\u001b[0m\u001b[0;34m)\u001b[0m\u001b[0;34m]\u001b[0m\u001b[0;34m,\u001b[0m \u001b[0mremainder\u001b[0m \u001b[0;34m=\u001b[0m \u001b[0;34m'passthrough'\u001b[0m\u001b[0;34m)\u001b[0m\u001b[0;34m\u001b[0m\u001b[0;34m\u001b[0m\u001b[0m\n\u001b[0;32m----> 3\u001b[0;31m \u001b[0mX\u001b[0m \u001b[0;34m=\u001b[0m \u001b[0mcol_trans\u001b[0m\u001b[0;34m.\u001b[0m\u001b[0mfit_transform\u001b[0m\u001b[0;34m(\u001b[0m\u001b[0mX\u001b[0m\u001b[0;34m)\u001b[0m\u001b[0;34m\u001b[0m\u001b[0;34m\u001b[0m\u001b[0m\n\u001b[0m",
            "\u001b[0;32m/usr/local/lib/python3.6/dist-packages/sklearn/compose/_column_transformer.py\u001b[0m in \u001b[0;36mfit_transform\u001b[0;34m(self, X, y)\u001b[0m\n\u001b[1;32m    538\u001b[0m         \u001b[0mself\u001b[0m\u001b[0;34m.\u001b[0m\u001b[0m_validate_output\u001b[0m\u001b[0;34m(\u001b[0m\u001b[0mXs\u001b[0m\u001b[0;34m)\u001b[0m\u001b[0;34m\u001b[0m\u001b[0;34m\u001b[0m\u001b[0m\n\u001b[1;32m    539\u001b[0m \u001b[0;34m\u001b[0m\u001b[0m\n\u001b[0;32m--> 540\u001b[0;31m         \u001b[0;32mreturn\u001b[0m \u001b[0mself\u001b[0m\u001b[0;34m.\u001b[0m\u001b[0m_hstack\u001b[0m\u001b[0;34m(\u001b[0m\u001b[0mlist\u001b[0m\u001b[0;34m(\u001b[0m\u001b[0mXs\u001b[0m\u001b[0;34m)\u001b[0m\u001b[0;34m)\u001b[0m\u001b[0;34m\u001b[0m\u001b[0;34m\u001b[0m\u001b[0m\n\u001b[0m\u001b[1;32m    541\u001b[0m \u001b[0;34m\u001b[0m\u001b[0m\n\u001b[1;32m    542\u001b[0m     \u001b[0;32mdef\u001b[0m \u001b[0mtransform\u001b[0m\u001b[0;34m(\u001b[0m\u001b[0mself\u001b[0m\u001b[0;34m,\u001b[0m \u001b[0mX\u001b[0m\u001b[0;34m)\u001b[0m\u001b[0;34m:\u001b[0m\u001b[0;34m\u001b[0m\u001b[0;34m\u001b[0m\u001b[0m\n",
            "\u001b[0;32m/usr/local/lib/python3.6/dist-packages/sklearn/compose/_column_transformer.py\u001b[0m in \u001b[0;36m_hstack\u001b[0;34m(self, Xs)\u001b[0m\n\u001b[1;32m    615\u001b[0m                                 for X in Xs]\n\u001b[1;32m    616\u001b[0m             \u001b[0;32mexcept\u001b[0m \u001b[0mValueError\u001b[0m\u001b[0;34m:\u001b[0m\u001b[0;34m\u001b[0m\u001b[0;34m\u001b[0m\u001b[0m\n\u001b[0;32m--> 617\u001b[0;31m                 raise ValueError(\"For a sparse output, all columns should\"\n\u001b[0m\u001b[1;32m    618\u001b[0m                                  \" be a numeric or convertible to a numeric.\")\n\u001b[1;32m    619\u001b[0m \u001b[0;34m\u001b[0m\u001b[0m\n",
            "\u001b[0;31mValueError\u001b[0m: For a sparse output, all columns should be a numeric or convertible to a numeric."
          ]
        }
      ]
    },
    {
      "cell_type": "code",
      "metadata": {
        "id": "Z8z9nx85hBMz",
        "colab_type": "code",
        "colab": {}
      },
      "source": [
        "X = dataset.drop(['state','churn','phone number'],axis=1).values\n",
        "y = dataset['churn'].values"
      ],
      "execution_count": 0,
      "outputs": []
    },
    {
      "cell_type": "code",
      "metadata": {
        "id": "rUQlboz_h4qL",
        "colab_type": "code",
        "colab": {}
      },
      "source": [
        "from sklearn.preprocessing import LabelEncoder\n",
        "encoder1 = LabelEncoder()\n",
        "X[:,2] = encoder1.fit_transform(X[:,3])\n",
        "encoder2 = LabelEncoder()\n",
        "X[:,3] = encoder2.fit_transform(X[:,4])"
      ],
      "execution_count": 0,
      "outputs": []
    },
    {
      "cell_type": "code",
      "metadata": {
        "id": "k0OeCk8XEZIl",
        "colab_type": "code",
        "colab": {}
      },
      "source": [
        "from sklearn.preprocessing import StandardScaler\n",
        "sc = StandardScaler()\n",
        "X = sc.fit_transform(X)"
      ],
      "execution_count": 0,
      "outputs": []
    },
    {
      "cell_type": "code",
      "metadata": {
        "id": "PvY93TCAK7lv",
        "colab_type": "code",
        "outputId": "191f81b3-1d94-490e-aae5-280dc4fc978b",
        "colab": {
          "base_uri": "https://localhost:8080/",
          "height": 218
        }
      },
      "source": [
        "X[:4,:]"
      ],
      "execution_count": 0,
      "outputs": [
        {
          "output_type": "execute_result",
          "data": {
            "text/plain": [
              "array([[ 0.67648946, -0.52360328,  1.6170861 ,  1.12698528,  1.23488274,\n",
              "         1.56676695,  0.47664315, -0.07060962, -0.05594035,  0.86674322,\n",
              "        -0.46549436, -0.08500823, -0.60119509, -0.42793202],\n",
              "       [ 0.14906505, -0.52360328,  1.6170861 ,  1.21671444,  1.30794844,\n",
              "        -0.33373776,  1.12450284, -0.10808036,  0.14486653,  1.05857074,\n",
              "         0.14782467,  1.24048169, -0.60119509, -0.42793202],\n",
              "       [ 0.9025285 , -0.52360328, -0.61839626, -0.57786869, -0.59175986,\n",
              "         1.16830364,  0.67598459, -1.57338336,  0.49627857, -0.75686906,\n",
              "         0.19893459,  0.70312091,  0.21153386, -1.1882185 ],\n",
              "       [-0.42859027, -0.68883427, -0.61839626, -0.57786869, -0.59175986,\n",
              "         2.19659605, -1.46693591, -2.74286476, -0.60815927, -0.07855114,\n",
              "        -0.5677142 , -1.30302599,  1.02426282,  0.33235445]])"
            ]
          },
          "metadata": {
            "tags": []
          },
          "execution_count": 24
        }
      ]
    },
    {
      "cell_type": "code",
      "metadata": {
        "id": "TgBBlhhGjW18",
        "colab_type": "code",
        "colab": {}
      },
      "source": [
        "from sklearn.model_selection import train_test_split\n",
        "X_train, X_test, y_train,y_test = train_test_split(X,y,test_size=0.2,random_state=0)"
      ],
      "execution_count": 0,
      "outputs": []
    },
    {
      "cell_type": "code",
      "metadata": {
        "id": "LjDUTeRQk_m-",
        "colab_type": "code",
        "outputId": "4423f78d-fafe-4925-886c-0b8ce950a76d",
        "colab": {
          "base_uri": "https://localhost:8080/",
          "height": 34
        }
      },
      "source": [
        "X.shape"
      ],
      "execution_count": 0,
      "outputs": [
        {
          "output_type": "execute_result",
          "data": {
            "text/plain": [
              "(3333, 14)"
            ]
          },
          "metadata": {
            "tags": []
          },
          "execution_count": 26
        }
      ]
    },
    {
      "cell_type": "code",
      "metadata": {
        "id": "iPHmAa6FjrJb",
        "colab_type": "code",
        "outputId": "7c7eaf52-28fd-4547-89f6-f526002b260c",
        "colab": {
          "base_uri": "https://localhost:8080/",
          "height": 722
        }
      },
      "source": [
        "classifier = Sequential([\n",
        "                           Dense(256, input_shape=(14,)),\n",
        "                           Activation('relu'),\n",
        "                           BatchNormalization(),\n",
        "\n",
        "                           Dense(128),\n",
        "                           Activation('relu'),\n",
        "                           BatchNormalization(),\n",
        "\n",
        "                           Dense(1),\n",
        "                           Activation('sigmoid')\n",
        "  ])\n",
        "classifier.compile(optimizer='adam', loss='binary_crossentropy',metrics=['accuracy'])\n",
        "classifier.fit(X_train,y_train,epochs=20,batch_size=10)\n",
        "acc=classifier.evaluate(X_test,y_test)\n",
        "print(acc)"
      ],
      "execution_count": 0,
      "outputs": [
        {
          "output_type": "stream",
          "text": [
            "Epoch 1/20\n",
            "267/267 [==============================] - 0s 2ms/step - loss: 0.4498 - accuracy: 0.7982\n",
            "Epoch 2/20\n",
            "267/267 [==============================] - 0s 2ms/step - loss: 0.3203 - accuracy: 0.8837\n",
            "Epoch 3/20\n",
            "267/267 [==============================] - 0s 2ms/step - loss: 0.2963 - accuracy: 0.8953\n",
            "Epoch 4/20\n",
            "267/267 [==============================] - 0s 2ms/step - loss: 0.2795 - accuracy: 0.8976\n",
            "Epoch 5/20\n",
            "267/267 [==============================] - 0s 2ms/step - loss: 0.2698 - accuracy: 0.9010\n",
            "Epoch 6/20\n",
            "267/267 [==============================] - 0s 2ms/step - loss: 0.2511 - accuracy: 0.9051\n",
            "Epoch 7/20\n",
            "267/267 [==============================] - 0s 2ms/step - loss: 0.2421 - accuracy: 0.9145\n",
            "Epoch 8/20\n",
            "267/267 [==============================] - 0s 2ms/step - loss: 0.2260 - accuracy: 0.9209\n",
            "Epoch 9/20\n",
            "267/267 [==============================] - 1s 2ms/step - loss: 0.2286 - accuracy: 0.9182\n",
            "Epoch 10/20\n",
            "267/267 [==============================] - 0s 2ms/step - loss: 0.2238 - accuracy: 0.9186\n",
            "Epoch 11/20\n",
            "267/267 [==============================] - 0s 2ms/step - loss: 0.2082 - accuracy: 0.9265\n",
            "Epoch 12/20\n",
            "267/267 [==============================] - 0s 2ms/step - loss: 0.1981 - accuracy: 0.9284\n",
            "Epoch 13/20\n",
            "267/267 [==============================] - 1s 2ms/step - loss: 0.1920 - accuracy: 0.9269\n",
            "Epoch 14/20\n",
            "267/267 [==============================] - 0s 2ms/step - loss: 0.1928 - accuracy: 0.9314\n",
            "Epoch 15/20\n",
            "267/267 [==============================] - 1s 2ms/step - loss: 0.1765 - accuracy: 0.9351\n",
            "Epoch 16/20\n",
            "267/267 [==============================] - 0s 2ms/step - loss: 0.1776 - accuracy: 0.9359\n",
            "Epoch 17/20\n",
            "267/267 [==============================] - 0s 2ms/step - loss: 0.1699 - accuracy: 0.9407\n",
            "Epoch 18/20\n",
            "267/267 [==============================] - 0s 2ms/step - loss: 0.1566 - accuracy: 0.9419\n",
            "Epoch 19/20\n",
            "267/267 [==============================] - 0s 2ms/step - loss: 0.1622 - accuracy: 0.9404\n",
            "Epoch 20/20\n",
            "267/267 [==============================] - 0s 2ms/step - loss: 0.1698 - accuracy: 0.9385\n",
            "21/21 [==============================] - 0s 1ms/step - loss: 0.3597 - accuracy: 0.8996\n",
            "[0.3596508502960205, 0.899550199508667]\n"
          ],
          "name": "stdout"
        }
      ]
    },
    {
      "cell_type": "markdown",
      "metadata": {
        "id": "1gfuEl7up2V1",
        "colab_type": "text"
      },
      "source": [
        "Using k folds\n",
        "\n",
        "for that we need not split X,y into test and training set"
      ]
    },
    {
      "cell_type": "code",
      "metadata": {
        "id": "IMD-5pH7n5Z9",
        "colab_type": "code",
        "outputId": "61c3283c-69e8-4d92-e83c-7dd09c415c06",
        "colab": {
          "base_uri": "https://localhost:8080/",
          "height": 1000
        }
      },
      "source": [
        "score=[]\n",
        "cv = KFold(n_splits = 10, shuffle=False, random_state=None)\n",
        "for train_index,test_index in cv.split(X):\n",
        "  classifier = Sequential([\n",
        "                           Dense(256, input_shape=(14,)),\n",
        "                           Activation('relu'),\n",
        "                           BatchNormalization(),\n",
        "\n",
        "                           Dense(128),\n",
        "                           Activation('relu'),\n",
        "                           BatchNormalization(),\n",
        "\n",
        "                           Dense(1),\n",
        "                           Activation('sigmoid')\n",
        "  ])\n",
        "  classifier.compile(optimizer='adam', loss='binary_crossentropy',metrics=['accuracy'])\n",
        "  X_train,X_test = X[train_index],X[test_index]\n",
        "  y_train,y_test = y[train_index],y[test_index]\n",
        "  classifier.fit(X_train,y_train,epochs=10)\n",
        "  acc = classifier.evaluate(X_test,y_test)\n",
        "  score.append(acc)\n",
        "  print(acc)"
      ],
      "execution_count": 0,
      "outputs": [
        {
          "output_type": "stream",
          "text": [
            "Epoch 1/10\n",
            "94/94 [==============================] - 0s 2ms/step - loss: 0.5260 - accuracy: 0.7569\n",
            "Epoch 2/10\n",
            "94/94 [==============================] - 0s 2ms/step - loss: 0.3011 - accuracy: 0.8960\n",
            "Epoch 3/10\n",
            "94/94 [==============================] - 0s 2ms/step - loss: 0.2561 - accuracy: 0.9126\n",
            "Epoch 4/10\n",
            "94/94 [==============================] - 0s 2ms/step - loss: 0.2335 - accuracy: 0.9123\n",
            "Epoch 5/10\n",
            "94/94 [==============================] - 0s 2ms/step - loss: 0.2201 - accuracy: 0.9240\n",
            "Epoch 6/10\n",
            "94/94 [==============================] - 0s 2ms/step - loss: 0.2041 - accuracy: 0.9276\n",
            "Epoch 7/10\n",
            "94/94 [==============================] - 0s 2ms/step - loss: 0.1981 - accuracy: 0.9296\n",
            "Epoch 8/10\n",
            "94/94 [==============================] - 0s 2ms/step - loss: 0.1784 - accuracy: 0.9340\n",
            "Epoch 9/10\n",
            "94/94 [==============================] - 0s 2ms/step - loss: 0.1784 - accuracy: 0.9313\n",
            "Epoch 10/10\n",
            "94/94 [==============================] - 0s 2ms/step - loss: 0.1608 - accuracy: 0.9420\n",
            "11/11 [==============================] - 0s 2ms/step - loss: 0.2706 - accuracy: 0.9102\n",
            "[0.2705785036087036, 0.910179615020752]\n",
            "Epoch 1/10\n",
            "94/94 [==============================] - 0s 2ms/step - loss: 0.5185 - accuracy: 0.7539\n",
            "Epoch 2/10\n",
            "94/94 [==============================] - 0s 2ms/step - loss: 0.2947 - accuracy: 0.9013\n",
            "Epoch 3/10\n",
            "94/94 [==============================] - 0s 2ms/step - loss: 0.2562 - accuracy: 0.9116\n",
            "Epoch 4/10\n",
            "94/94 [==============================] - 0s 2ms/step - loss: 0.2250 - accuracy: 0.9213\n",
            "Epoch 5/10\n",
            "94/94 [==============================] - 0s 2ms/step - loss: 0.2081 - accuracy: 0.9266\n",
            "Epoch 6/10\n",
            "94/94 [==============================] - 0s 2ms/step - loss: 0.2023 - accuracy: 0.9280\n",
            "Epoch 7/10\n",
            "94/94 [==============================] - 0s 2ms/step - loss: 0.1921 - accuracy: 0.9300\n",
            "Epoch 8/10\n",
            "94/94 [==============================] - 0s 2ms/step - loss: 0.1807 - accuracy: 0.9346\n",
            "Epoch 9/10\n",
            "94/94 [==============================] - 0s 2ms/step - loss: 0.1667 - accuracy: 0.9386\n",
            "Epoch 10/10\n",
            "94/94 [==============================] - 0s 2ms/step - loss: 0.1607 - accuracy: 0.9403\n",
            "11/11 [==============================] - 0s 1ms/step - loss: 0.3733 - accuracy: 0.8982\n",
            "[0.37333860993385315, 0.8982036113739014]\n",
            "Epoch 1/10\n",
            "94/94 [==============================] - 0s 2ms/step - loss: 0.5218 - accuracy: 0.7603\n",
            "Epoch 2/10\n",
            "94/94 [==============================] - 0s 2ms/step - loss: 0.3071 - accuracy: 0.8903\n",
            "Epoch 3/10\n",
            "94/94 [==============================] - 0s 2ms/step - loss: 0.2554 - accuracy: 0.9116\n",
            "Epoch 4/10\n",
            "94/94 [==============================] - 0s 2ms/step - loss: 0.2335 - accuracy: 0.9160\n",
            "Epoch 5/10\n",
            "94/94 [==============================] - 0s 2ms/step - loss: 0.2155 - accuracy: 0.9203\n",
            "Epoch 6/10\n",
            "94/94 [==============================] - 0s 2ms/step - loss: 0.2092 - accuracy: 0.9226\n",
            "Epoch 7/10\n",
            "94/94 [==============================] - 0s 2ms/step - loss: 0.1883 - accuracy: 0.9366\n",
            "Epoch 8/10\n",
            "94/94 [==============================] - 0s 2ms/step - loss: 0.1818 - accuracy: 0.9333\n",
            "Epoch 9/10\n",
            "94/94 [==============================] - 0s 2ms/step - loss: 0.1734 - accuracy: 0.9390\n",
            "Epoch 10/10\n",
            "94/94 [==============================] - 0s 2ms/step - loss: 0.1692 - accuracy: 0.9396\n",
            "11/11 [==============================] - 0s 1ms/step - loss: 0.3054 - accuracy: 0.9132\n",
            "[0.3054083585739136, 0.9131736755371094]\n",
            "Epoch 1/10\n",
            "94/94 [==============================] - 0s 2ms/step - loss: 0.5165 - accuracy: 0.7527\n",
            "Epoch 2/10\n",
            "94/94 [==============================] - 0s 2ms/step - loss: 0.3061 - accuracy: 0.8933\n",
            "Epoch 3/10\n",
            "94/94 [==============================] - 0s 2ms/step - loss: 0.2613 - accuracy: 0.9113\n",
            "Epoch 4/10\n",
            "94/94 [==============================] - 0s 2ms/step - loss: 0.2265 - accuracy: 0.9227\n",
            "Epoch 5/10\n",
            "94/94 [==============================] - 0s 2ms/step - loss: 0.2153 - accuracy: 0.9187\n",
            "Epoch 6/10\n",
            "94/94 [==============================] - 0s 2ms/step - loss: 0.1999 - accuracy: 0.9230\n",
            "Epoch 7/10\n",
            "94/94 [==============================] - 0s 2ms/step - loss: 0.1902 - accuracy: 0.9270\n",
            "Epoch 8/10\n",
            "94/94 [==============================] - 0s 2ms/step - loss: 0.1880 - accuracy: 0.9283\n",
            "Epoch 9/10\n",
            "94/94 [==============================] - 0s 2ms/step - loss: 0.1749 - accuracy: 0.9350\n",
            "Epoch 10/10\n",
            "94/94 [==============================] - 0s 2ms/step - loss: 0.1606 - accuracy: 0.9430\n",
            "11/11 [==============================] - 0s 1ms/step - loss: 0.3362 - accuracy: 0.9009\n",
            "[0.3361697196960449, 0.9009009003639221]\n",
            "Epoch 1/10\n",
            "94/94 [==============================] - 0s 2ms/step - loss: 0.5092 - accuracy: 0.7627\n",
            "Epoch 2/10\n",
            "94/94 [==============================] - 0s 2ms/step - loss: 0.3012 - accuracy: 0.8977\n",
            "Epoch 3/10\n",
            "94/94 [==============================] - 0s 2ms/step - loss: 0.2520 - accuracy: 0.9127\n",
            "Epoch 4/10\n",
            "94/94 [==============================] - 0s 2ms/step - loss: 0.2339 - accuracy: 0.9160\n",
            "Epoch 5/10\n",
            "94/94 [==============================] - 0s 2ms/step - loss: 0.2094 - accuracy: 0.9230\n",
            "Epoch 6/10\n",
            "94/94 [==============================] - 0s 2ms/step - loss: 0.1962 - accuracy: 0.9263\n",
            "Epoch 7/10\n",
            "94/94 [==============================] - 0s 2ms/step - loss: 0.1929 - accuracy: 0.9283\n",
            "Epoch 8/10\n",
            "94/94 [==============================] - 0s 2ms/step - loss: 0.1856 - accuracy: 0.9283\n",
            "Epoch 9/10\n",
            "94/94 [==============================] - 0s 2ms/step - loss: 0.1696 - accuracy: 0.9383\n",
            "Epoch 10/10\n",
            "94/94 [==============================] - 0s 2ms/step - loss: 0.1642 - accuracy: 0.9387\n",
            "11/11 [==============================] - 0s 1ms/step - loss: 0.2921 - accuracy: 0.9009\n",
            "[0.2921443581581116, 0.9009009003639221]\n",
            "Epoch 1/10\n",
            "94/94 [==============================] - 0s 2ms/step - loss: 0.5173 - accuracy: 0.7603\n",
            "Epoch 2/10\n",
            "94/94 [==============================] - 0s 2ms/step - loss: 0.2927 - accuracy: 0.9040\n",
            "Epoch 3/10\n",
            "94/94 [==============================] - 0s 2ms/step - loss: 0.2479 - accuracy: 0.9140\n",
            "Epoch 4/10\n",
            "94/94 [==============================] - 0s 2ms/step - loss: 0.2328 - accuracy: 0.9157\n",
            "Epoch 5/10\n",
            "94/94 [==============================] - 0s 2ms/step - loss: 0.2175 - accuracy: 0.9210\n",
            "Epoch 6/10\n",
            "94/94 [==============================] - 0s 2ms/step - loss: 0.2008 - accuracy: 0.9277\n",
            "Epoch 7/10\n",
            "94/94 [==============================] - 0s 2ms/step - loss: 0.1845 - accuracy: 0.9363\n",
            "Epoch 8/10\n",
            "94/94 [==============================] - 0s 2ms/step - loss: 0.1731 - accuracy: 0.9350\n",
            "Epoch 9/10\n",
            "94/94 [==============================] - 0s 2ms/step - loss: 0.1760 - accuracy: 0.9387\n",
            "Epoch 10/10\n",
            "94/94 [==============================] - 0s 2ms/step - loss: 0.1704 - accuracy: 0.9407\n",
            "11/11 [==============================] - 0s 1ms/step - loss: 0.3097 - accuracy: 0.8979\n",
            "[0.30973145365715027, 0.8978978991508484]\n",
            "Epoch 1/10\n",
            "94/94 [==============================] - 0s 2ms/step - loss: 0.5254 - accuracy: 0.7557\n",
            "Epoch 2/10\n",
            "94/94 [==============================] - 0s 2ms/step - loss: 0.3110 - accuracy: 0.8897\n",
            "Epoch 3/10\n",
            "94/94 [==============================] - 0s 2ms/step - loss: 0.2606 - accuracy: 0.9133\n",
            "Epoch 4/10\n",
            "94/94 [==============================] - 0s 2ms/step - loss: 0.2341 - accuracy: 0.9160\n",
            "Epoch 5/10\n",
            "94/94 [==============================] - 0s 2ms/step - loss: 0.2251 - accuracy: 0.9230\n",
            "Epoch 6/10\n",
            "94/94 [==============================] - 0s 2ms/step - loss: 0.2176 - accuracy: 0.9240\n",
            "Epoch 7/10\n",
            "94/94 [==============================] - 0s 2ms/step - loss: 0.2017 - accuracy: 0.9233\n",
            "Epoch 8/10\n",
            "94/94 [==============================] - 0s 2ms/step - loss: 0.1879 - accuracy: 0.9303\n",
            "Epoch 9/10\n",
            "94/94 [==============================] - 0s 2ms/step - loss: 0.1812 - accuracy: 0.9333\n",
            "Epoch 10/10\n",
            "94/94 [==============================] - 0s 2ms/step - loss: 0.1824 - accuracy: 0.9317\n",
            "11/11 [==============================] - 0s 1ms/step - loss: 0.2717 - accuracy: 0.8949\n",
            "[0.27170732617378235, 0.8948948979377747]\n",
            "Epoch 1/10\n",
            "94/94 [==============================] - 0s 2ms/step - loss: 0.5295 - accuracy: 0.7563\n",
            "Epoch 2/10\n",
            "94/94 [==============================] - 0s 2ms/step - loss: 0.3078 - accuracy: 0.8920\n",
            "Epoch 3/10\n",
            "94/94 [==============================] - 0s 2ms/step - loss: 0.2506 - accuracy: 0.9107\n",
            "Epoch 4/10\n",
            "94/94 [==============================] - 0s 2ms/step - loss: 0.2215 - accuracy: 0.9250\n",
            "Epoch 5/10\n",
            "94/94 [==============================] - 0s 2ms/step - loss: 0.2121 - accuracy: 0.9273\n",
            "Epoch 6/10\n",
            "94/94 [==============================] - 0s 2ms/step - loss: 0.1949 - accuracy: 0.9310\n",
            "Epoch 7/10\n",
            "94/94 [==============================] - 0s 2ms/step - loss: 0.1911 - accuracy: 0.9333\n",
            "Epoch 8/10\n",
            "94/94 [==============================] - 0s 2ms/step - loss: 0.1750 - accuracy: 0.9397\n",
            "Epoch 9/10\n",
            "94/94 [==============================] - 0s 2ms/step - loss: 0.1622 - accuracy: 0.9443\n",
            "Epoch 10/10\n",
            "94/94 [==============================] - 0s 2ms/step - loss: 0.1602 - accuracy: 0.9390\n",
            "11/11 [==============================] - 0s 1ms/step - loss: 0.4730 - accuracy: 0.8679\n",
            "[0.4730384051799774, 0.8678678870201111]\n",
            "Epoch 1/10\n",
            "94/94 [==============================] - 0s 2ms/step - loss: 0.5240 - accuracy: 0.7517\n",
            "Epoch 2/10\n",
            "94/94 [==============================] - 0s 2ms/step - loss: 0.3044 - accuracy: 0.8983\n",
            "Epoch 3/10\n",
            "94/94 [==============================] - 0s 2ms/step - loss: 0.2469 - accuracy: 0.9150\n",
            "Epoch 4/10\n",
            "94/94 [==============================] - 0s 2ms/step - loss: 0.2302 - accuracy: 0.9187\n",
            "Epoch 5/10\n",
            "94/94 [==============================] - 0s 2ms/step - loss: 0.2122 - accuracy: 0.9230\n",
            "Epoch 6/10\n",
            "94/94 [==============================] - 0s 2ms/step - loss: 0.1903 - accuracy: 0.9317\n",
            "Epoch 7/10\n",
            "94/94 [==============================] - 0s 2ms/step - loss: 0.1817 - accuracy: 0.9357\n",
            "Epoch 8/10\n",
            "94/94 [==============================] - 0s 2ms/step - loss: 0.1789 - accuracy: 0.9340\n",
            "Epoch 9/10\n",
            "94/94 [==============================] - 0s 2ms/step - loss: 0.1677 - accuracy: 0.9423\n",
            "Epoch 10/10\n",
            "94/94 [==============================] - 0s 2ms/step - loss: 0.1546 - accuracy: 0.9410\n",
            "11/11 [==============================] - 0s 1ms/step - loss: 0.4017 - accuracy: 0.8799\n",
            "[0.40174829959869385, 0.879879891872406]\n",
            "Epoch 1/10\n",
            "94/94 [==============================] - 0s 2ms/step - loss: 0.5325 - accuracy: 0.7437\n",
            "Epoch 2/10\n",
            "94/94 [==============================] - 0s 2ms/step - loss: 0.3187 - accuracy: 0.8890\n",
            "Epoch 3/10\n",
            "94/94 [==============================] - 0s 2ms/step - loss: 0.2680 - accuracy: 0.9080\n",
            "Epoch 4/10\n",
            "94/94 [==============================] - 0s 2ms/step - loss: 0.2393 - accuracy: 0.9167\n",
            "Epoch 5/10\n",
            "94/94 [==============================] - 0s 2ms/step - loss: 0.2354 - accuracy: 0.9130\n",
            "Epoch 6/10\n",
            "94/94 [==============================] - 0s 2ms/step - loss: 0.2128 - accuracy: 0.9253\n",
            "Epoch 7/10\n",
            "94/94 [==============================] - 0s 2ms/step - loss: 0.2015 - accuracy: 0.9270\n",
            "Epoch 8/10\n",
            "94/94 [==============================] - 0s 2ms/step - loss: 0.1973 - accuracy: 0.9273\n",
            "Epoch 9/10\n",
            "94/94 [==============================] - 0s 2ms/step - loss: 0.1734 - accuracy: 0.9370\n",
            "Epoch 10/10\n",
            "94/94 [==============================] - 0s 2ms/step - loss: 0.1762 - accuracy: 0.9333\n",
            "11/11 [==============================] - 0s 1ms/step - loss: 0.2101 - accuracy: 0.9129\n",
            "[0.21012042462825775, 0.912912905216217]\n"
          ],
          "name": "stdout"
        }
      ]
    }
  ]
}