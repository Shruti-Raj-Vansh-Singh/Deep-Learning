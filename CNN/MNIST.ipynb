{
  "nbformat": 4,
  "nbformat_minor": 0,
  "metadata": {
    "colab": {
      "name": "MNIST.ipynb",
      "provenance": [],
      "collapsed_sections": [],
      "authorship_tag": "ABX9TyM7MSDykbIvhB2Fey0KNV1i",
      "include_colab_link": true
    },
    "kernelspec": {
      "name": "python3",
      "display_name": "Python 3"
    }
  },
  "cells": [
    {
      "cell_type": "markdown",
      "metadata": {
        "id": "view-in-github",
        "colab_type": "text"
      },
      "source": [
        "<a href=\"https://colab.research.google.com/github/Shruti-Raj-Vansh-Singh/Deep-Learning/blob/master/CNN/MNIST.ipynb\" target=\"_parent\"><img src=\"https://colab.research.google.com/assets/colab-badge.svg\" alt=\"Open In Colab\"/></a>"
      ]
    },
    {
      "cell_type": "code",
      "metadata": {
        "id": "1qKuS8KzHRDF",
        "colab_type": "code",
        "outputId": "c08811bc-f8f8-415a-a25f-70c530181556",
        "colab": {
          "base_uri": "https://localhost:8080/",
          "height": 87
        }
      },
      "source": [
        "import numpy as np\n",
        "import pandas as pd\n",
        "from keras.models import Sequential\n",
        "from keras.layers import Conv2D, Activation, MaxPooling2D, BatchNormalization, Dropout, Dense, Flatten\n",
        "from keras.optimizers import RMSprop\n",
        "from keras.callbacks import ReduceLROnPlateau\n",
        "import matplotlib.pyplot as plt\n",
        "from keras.datasets import mnist\n",
        "import seaborn as sns"
      ],
      "execution_count": 0,
      "outputs": [
        {
          "output_type": "stream",
          "text": [
            "Using TensorFlow backend.\n",
            "/usr/local/lib/python3.6/dist-packages/statsmodels/tools/_testing.py:19: FutureWarning: pandas.util.testing is deprecated. Use the functions in the public API at pandas.testing instead.\n",
            "  import pandas.util.testing as tm\n"
          ],
          "name": "stderr"
        }
      ]
    },
    {
      "cell_type": "code",
      "metadata": {
        "id": "N_flMl-BJVTB",
        "colab_type": "code",
        "outputId": "97b5f39d-1ad5-4134-fe97-d2c886a440b1",
        "colab": {
          "base_uri": "https://localhost:8080/",
          "height": 50
        }
      },
      "source": [
        "(X_train, y_train), (X_test, y_test) = mnist.load_data()"
      ],
      "execution_count": 0,
      "outputs": [
        {
          "output_type": "stream",
          "text": [
            "Downloading data from https://s3.amazonaws.com/img-datasets/mnist.npz\n",
            "11493376/11490434 [==============================] - 0s 0us/step\n"
          ],
          "name": "stdout"
        }
      ]
    },
    {
      "cell_type": "code",
      "metadata": {
        "id": "peaksZAkKknm",
        "colab_type": "code",
        "outputId": "d340cf4d-2f67-4d08-cc74-c1b583e4e40b",
        "colab": {
          "base_uri": "https://localhost:8080/",
          "height": 34
        }
      },
      "source": [
        "X_train.shape"
      ],
      "execution_count": 0,
      "outputs": [
        {
          "output_type": "execute_result",
          "data": {
            "text/plain": [
              "(60000, 28, 28)"
            ]
          },
          "metadata": {
            "tags": []
          },
          "execution_count": 3
        }
      ]
    },
    {
      "cell_type": "code",
      "metadata": {
        "id": "oMSNRTwBKol0",
        "colab_type": "code",
        "outputId": "4fc3492c-f0e2-4faa-d7c7-74c8863d38fe",
        "colab": {
          "base_uri": "https://localhost:8080/",
          "height": 34
        }
      },
      "source": [
        "X_test.shape"
      ],
      "execution_count": 0,
      "outputs": [
        {
          "output_type": "execute_result",
          "data": {
            "text/plain": [
              "(10000, 28, 28)"
            ]
          },
          "metadata": {
            "tags": []
          },
          "execution_count": 4
        }
      ]
    },
    {
      "cell_type": "markdown",
      "metadata": {
        "id": "IYkM-AAJKsW_",
        "colab_type": "text"
      },
      "source": [
        "Visualizing the dataset"
      ]
    },
    {
      "cell_type": "code",
      "metadata": {
        "id": "N7U7b2oJKqjv",
        "colab_type": "code",
        "outputId": "14fbbf36-eec5-4ff0-872e-189c4548d9a2",
        "colab": {
          "base_uri": "https://localhost:8080/",
          "height": 282
        }
      },
      "source": [
        "plt.imshow(X_train[4])\n",
        "print(y_train[4])"
      ],
      "execution_count": 0,
      "outputs": [
        {
          "output_type": "stream",
          "text": [
            "9\n"
          ],
          "name": "stdout"
        },
        {
          "output_type": "display_data",
          "data": {
            "image/png": "[encoded data removed]",
            "text/plain": [
              "<Figure size 432x288 with 1 Axes>"
            ]
          },
          "metadata": {
            "tags": [],
            "needs_background": "light"
          }
        }
      ]
    },
    {
      "cell_type": "markdown",
      "metadata": {
        "id": "11VZT0EWMj_T",
        "colab_type": "text"
      },
      "source": [
        "Understanding the data"
      ]
    },
    {
      "cell_type": "code",
      "metadata": {
        "id": "0-vrVxV6LD0H",
        "colab_type": "code",
        "outputId": "752d73da-4744-4932-d7e3-16f03f68e12f",
        "colab": {
          "base_uri": "https://localhost:8080/",
          "height": 284
        }
      },
      "source": [
        "sns.countplot(y_train)"
      ],
      "execution_count": 0,
      "outputs": [
        {
          "output_type": "execute_result",
          "data": {
            "text/plain": [
              "<matplotlib.axes._subplots.AxesSubplot at 0x7f95de8eab38>"
            ]
          },
          "metadata": {
            "tags": []
          },
          "execution_count": 6
        },
        {
          "output_type": "display_data",
          "data": {
            "image/png": "[encoded data removed]",
            "text/plain": [
              "<Figure size 432x288 with 1 Axes>"
            ]
          },
          "metadata": {
            "tags": [],
            "needs_background": "light"
          }
        }
      ]
    },
    {
      "cell_type": "code",
      "metadata": {
        "id": "85Yu4ULrMuJD",
        "colab_type": "code",
        "outputId": "f6798a42-0a75-46a0-8d9e-338cdabf0d8c",
        "colab": {
          "base_uri": "https://localhost:8080/",
          "height": 50
        }
      },
      "source": [
        "unique, count = np.unique(y_train, return_counts=True)\n",
        "print(unique)\n",
        "print(count)"
      ],
      "execution_count": 0,
      "outputs": [
        {
          "output_type": "stream",
          "text": [
            "[0 1 2 3 4 5 6 7 8 9]\n",
            "[5923 6742 5958 6131 5842 5421 5918 6265 5851 5949]\n"
          ],
          "name": "stdout"
        }
      ]
    },
    {
      "cell_type": "markdown",
      "metadata": {
        "id": "P3qpt5WuP-bc",
        "colab_type": "text"
      },
      "source": [
        "normalizing our values"
      ]
    },
    {
      "cell_type": "code",
      "metadata": {
        "id": "5aPWiZLCPvCe",
        "colab_type": "code",
        "colab": {}
      },
      "source": [
        "X_train = X_train.astype('float32')/255.0\n",
        "X_test = X_test.astype('float32')/255.0"
      ],
      "execution_count": 0,
      "outputs": []
    },
    {
      "cell_type": "markdown",
      "metadata": {
        "id": "eGvfTLxWRLA2",
        "colab_type": "text"
      },
      "source": [
        "Reshaping our array\n",
        "that last arg is number of channels: 1 means grayscale"
      ]
    },
    {
      "cell_type": "code",
      "metadata": {
        "id": "WGxAKzzaRKfy",
        "colab_type": "code",
        "colab": {}
      },
      "source": [
        "X_train = X_train.reshape(X_train.shape[0], 28,28,1)\n",
        "X_test = X_test.reshape(X_test.shape[0],28,28,1)"
      ],
      "execution_count": 0,
      "outputs": []
    },
    {
      "cell_type": "markdown",
      "metadata": {
        "id": "zDIkzS5aSbOf",
        "colab_type": "text"
      },
      "source": [
        "Building our model"
      ]
    },
    {
      "cell_type": "code",
      "metadata": {
        "id": "0SoVD3R2QFC6",
        "colab_type": "code",
        "colab": {}
      },
      "source": [
        "model = Sequential([\n",
        "                    Conv2D(filters = 32, kernel_size=(5,5),padding='same', input_shape=(28,28,1)),\n",
        "                    Activation('relu'),\n",
        "                    MaxPooling2D(pool_size=(2,2)),\n",
        "                    Dropout(0.3),\n",
        "                    Conv2D(filters=64, kernel_size=(5,5),padding='same'),\n",
        "                    Activation('relu'),\n",
        "                    MaxPooling2D(pool_size=(2,2)),\n",
        "                    Dropout(0.25),\n",
        "\n",
        "                    Flatten(),\n",
        "\n",
        "                    Dense(256),\n",
        "                    Activation(\"relu\"),\n",
        "                    Dropout(0.5),\n",
        "                    Dense(10),\n",
        "                    Activation('softmax'),\n",
        "])\n"
      ],
      "execution_count": 0,
      "outputs": []
    },
    {
      "cell_type": "markdown",
      "metadata": {
        "id": "QvRfB_waWuOs",
        "colab_type": "text"
      },
      "source": [
        "Optimizer choose is rmsprop \\\n",
        "The RMSProp update adjusts the Adagrad method in a very simple way in an attempt to reduce its aggressive, monotonically decreasing learning rate"
      ]
    },
    {
      "cell_type": "code",
      "metadata": {
        "id": "GjeMoDiVWjwh",
        "colab_type": "code",
        "colab": {}
      },
      "source": [
        "model.compile(optimizer = 'RMSprop', loss = 'categorical_crossentropy', metrics=['accuracy'])"
      ],
      "execution_count": 0,
      "outputs": []
    },
    {
      "cell_type": "markdown",
      "metadata": {
        "id": "hTkUe4KfXwIf",
        "colab_type": "text"
      },
      "source": [
        "reducing the learning rate by half after 3 epochs if the accuracy doesnot improve "
      ]
    },
    {
      "cell_type": "code",
      "metadata": {
        "id": "HdAti_1kZ7FX",
        "colab_type": "code",
        "outputId": "5a9baf87-ce73-4b26-8219-db1b53b2ddb0",
        "colab": {
          "base_uri": "https://localhost:8080/",
          "height": 34
        }
      },
      "source": [
        "X_train.shape"
      ],
      "execution_count": 0,
      "outputs": [
        {
          "output_type": "execute_result",
          "data": {
            "text/plain": [
              "(60000, 28, 28, 1)"
            ]
          },
          "metadata": {
            "tags": []
          },
          "execution_count": 19
        }
      ]
    },
    {
      "cell_type": "code",
      "metadata": {
        "id": "LQP_DDrAZ_L1",
        "colab_type": "code",
        "colab": {}
      },
      "source": [
        "import keras\n",
        "y_train = keras.utils.to_categorical(y_train, 10)\n",
        "y_test = keras.utils.to_categorical(y_test, 10)"
      ],
      "execution_count": 0,
      "outputs": []
    },
    {
      "cell_type": "code",
      "metadata": {
        "id": "585BBDGRsy2D",
        "colab_type": "code",
        "outputId": "94f52b1b-566b-44b7-a343-88e22c18db7b",
        "colab": {
          "base_uri": "https://localhost:8080/",
          "height": 622
        }
      },
      "source": [
        "model.summary()"
      ],
      "execution_count": 0,
      "outputs": [
        {
          "output_type": "stream",
          "text": [
            "Model: \"sequential_2\"\n",
            "_________________________________________________________________\n",
            "Layer (type)                 Output Shape              Param #   \n",
            "=================================================================\n",
            "conv2d_3 (Conv2D)            (None, 28, 28, 32)        832       \n",
            "_________________________________________________________________\n",
            "activation_5 (Activation)    (None, 28, 28, 32)        0         \n",
            "_________________________________________________________________\n",
            "max_pooling2d_3 (MaxPooling2 (None, 14, 14, 32)        0         \n",
            "_________________________________________________________________\n",
            "dropout_4 (Dropout)          (None, 14, 14, 32)        0         \n",
            "_________________________________________________________________\n",
            "conv2d_4 (Conv2D)            (None, 14, 14, 64)        51264     \n",
            "_________________________________________________________________\n",
            "activation_6 (Activation)    (None, 14, 14, 64)        0         \n",
            "_________________________________________________________________\n",
            "max_pooling2d_4 (MaxPooling2 (None, 7, 7, 64)          0         \n",
            "_________________________________________________________________\n",
            "dropout_5 (Dropout)          (None, 7, 7, 64)          0         \n",
            "_________________________________________________________________\n",
            "flatten_2 (Flatten)          (None, 3136)              0         \n",
            "_________________________________________________________________\n",
            "dense_3 (Dense)              (None, 256)               803072    \n",
            "_________________________________________________________________\n",
            "activation_7 (Activation)    (None, 256)               0         \n",
            "_________________________________________________________________\n",
            "dropout_6 (Dropout)          (None, 256)               0         \n",
            "_________________________________________________________________\n",
            "dense_4 (Dense)              (None, 10)                2570      \n",
            "_________________________________________________________________\n",
            "activation_8 (Activation)    (None, 10)                0         \n",
            "=================================================================\n",
            "Total params: 857,738\n",
            "Trainable params: 857,738\n",
            "Non-trainable params: 0\n",
            "_________________________________________________________________\n"
          ],
          "name": "stdout"
        }
      ]
    },
    {
      "cell_type": "code",
      "metadata": {
        "id": "MaElSS7mYP7K",
        "colab_type": "code",
        "outputId": "0a3a422a-2f46-49c6-cd4c-fb2448cde0bf",
        "colab": {
          "base_uri": "https://localhost:8080/",
          "height": 1000
        }
      },
      "source": [
        "history=model.fit(X_train, y_train, batch_size=80, epochs=30, validation_split=0.1)"
      ],
      "execution_count": 0,
      "outputs": [
        {
          "output_type": "stream",
          "text": [
            "Train on 54000 samples, validate on 6000 samples\n",
            "Epoch 1/30\n",
            "54000/54000 [==============================] - 133s 2ms/step - loss: 0.2052 - accuracy: 0.9351 - val_loss: 0.0413 - val_accuracy: 0.9873\n",
            "Epoch 2/30\n",
            "54000/54000 [==============================] - 132s 2ms/step - loss: 0.0681 - accuracy: 0.9796 - val_loss: 0.0375 - val_accuracy: 0.9895\n",
            "Epoch 3/30\n",
            "54000/54000 [==============================] - 132s 2ms/step - loss: 0.0563 - accuracy: 0.9830 - val_loss: 0.0320 - val_accuracy: 0.9905\n",
            "Epoch 4/30\n",
            "54000/54000 [==============================] - 132s 2ms/step - loss: 0.0455 - accuracy: 0.9859 - val_loss: 0.0301 - val_accuracy: 0.9910\n",
            "Epoch 5/30\n",
            "54000/54000 [==============================] - 132s 2ms/step - loss: 0.0435 - accuracy: 0.9870 - val_loss: 0.0287 - val_accuracy: 0.9925\n",
            "Epoch 6/30\n",
            "54000/54000 [==============================] - 132s 2ms/step - loss: 0.0406 - accuracy: 0.9887 - val_loss: 0.0314 - val_accuracy: 0.9915\n",
            "Epoch 7/30\n",
            "54000/54000 [==============================] - 132s 2ms/step - loss: 0.0406 - accuracy: 0.9881 - val_loss: 0.0310 - val_accuracy: 0.9922\n",
            "Epoch 8/30\n",
            "54000/54000 [==============================] - 132s 2ms/step - loss: 0.0387 - accuracy: 0.9890 - val_loss: 0.0315 - val_accuracy: 0.9913\n",
            "Epoch 9/30\n",
            "54000/54000 [==============================] - 132s 2ms/step - loss: 0.0395 - accuracy: 0.9886 - val_loss: 0.0405 - val_accuracy: 0.9918\n",
            "Epoch 10/30\n",
            "54000/54000 [==============================] - 132s 2ms/step - loss: 0.0405 - accuracy: 0.9885 - val_loss: 0.0317 - val_accuracy: 0.9918\n",
            "Epoch 11/30\n",
            "54000/54000 [==============================] - 132s 2ms/step - loss: 0.0415 - accuracy: 0.9882 - val_loss: 0.0620 - val_accuracy: 0.9823\n",
            "Epoch 12/30\n",
            "54000/54000 [==============================] - 132s 2ms/step - loss: 0.0425 - accuracy: 0.9886 - val_loss: 0.0362 - val_accuracy: 0.9920\n",
            "Epoch 13/30\n",
            "54000/54000 [==============================] - 132s 2ms/step - loss: 0.0469 - accuracy: 0.9874 - val_loss: 0.0297 - val_accuracy: 0.9927\n",
            "Epoch 14/30\n",
            "54000/54000 [==============================] - 132s 2ms/step - loss: 0.0460 - accuracy: 0.9883 - val_loss: 0.0362 - val_accuracy: 0.9925\n",
            "Epoch 15/30\n",
            "54000/54000 [==============================] - 132s 2ms/step - loss: 0.0440 - accuracy: 0.9883 - val_loss: 0.0331 - val_accuracy: 0.9923\n",
            "Epoch 16/30\n",
            "54000/54000 [==============================] - 132s 2ms/step - loss: 0.0499 - accuracy: 0.9873 - val_loss: 0.0343 - val_accuracy: 0.9925\n",
            "Epoch 17/30\n",
            "54000/54000 [==============================] - 132s 2ms/step - loss: 0.0505 - accuracy: 0.9869 - val_loss: 0.0378 - val_accuracy: 0.9912\n",
            "Epoch 18/30\n",
            "54000/54000 [==============================] - 132s 2ms/step - loss: 0.0483 - accuracy: 0.9879 - val_loss: 0.0405 - val_accuracy: 0.9933\n",
            "Epoch 19/30\n",
            "54000/54000 [==============================] - 132s 2ms/step - loss: 0.0506 - accuracy: 0.9871 - val_loss: 0.0408 - val_accuracy: 0.9915\n",
            "Epoch 20/30\n",
            "54000/54000 [==============================] - 132s 2ms/step - loss: 0.0533 - accuracy: 0.9857 - val_loss: 0.0400 - val_accuracy: 0.9908\n",
            "Epoch 21/30\n",
            "54000/54000 [==============================] - 131s 2ms/step - loss: 0.0533 - accuracy: 0.9866 - val_loss: 0.0380 - val_accuracy: 0.9923\n",
            "Epoch 22/30\n",
            "54000/54000 [==============================] - 131s 2ms/step - loss: 0.0553 - accuracy: 0.9864 - val_loss: 0.0378 - val_accuracy: 0.9925\n",
            "Epoch 23/30\n",
            "54000/54000 [==============================] - 132s 2ms/step - loss: 0.0563 - accuracy: 0.9858 - val_loss: 0.0418 - val_accuracy: 0.9913\n",
            "Epoch 24/30\n",
            "54000/54000 [==============================] - 132s 2ms/step - loss: 0.0560 - accuracy: 0.9861 - val_loss: 0.0763 - val_accuracy: 0.9898\n",
            "Epoch 25/30\n",
            "54000/54000 [==============================] - 132s 2ms/step - loss: 0.0586 - accuracy: 0.9851 - val_loss: 0.0372 - val_accuracy: 0.9933\n",
            "Epoch 26/30\n",
            "54000/54000 [==============================] - 131s 2ms/step - loss: 0.0589 - accuracy: 0.9862 - val_loss: 0.0433 - val_accuracy: 0.9913\n",
            "Epoch 27/30\n",
            "54000/54000 [==============================] - 132s 2ms/step - loss: 0.0599 - accuracy: 0.9856 - val_loss: 0.0340 - val_accuracy: 0.9918\n",
            "Epoch 28/30\n",
            "54000/54000 [==============================] - 132s 2ms/step - loss: 0.0572 - accuracy: 0.9852 - val_loss: 0.0535 - val_accuracy: 0.9917\n",
            "Epoch 29/30\n",
            "54000/54000 [==============================] - 131s 2ms/step - loss: 0.0640 - accuracy: 0.9855 - val_loss: 0.0674 - val_accuracy: 0.9875\n",
            "Epoch 30/30\n",
            "54000/54000 [==============================] - 131s 2ms/step - loss: 0.0631 - accuracy: 0.9849 - val_loss: 0.0360 - val_accuracy: 0.9917\n"
          ],
          "name": "stdout"
        }
      ]
    },
    {
      "cell_type": "markdown",
      "metadata": {
        "id": "qxW64CZMtUc0",
        "colab_type": "text"
      },
      "source": [
        "It is better to have decreasing leraning rate so as efficientlt reach the gloabal minimum. For this we can use the callback attribute of the keras package"
      ]
    },
    {
      "cell_type": "code",
      "metadata": {
        "id": "j1hlxxcm1k3k",
        "colab_type": "code",
        "outputId": "a34b3132-262c-4eed-e962-ee238bcccd6f",
        "colab": {
          "base_uri": "https://localhost:8080/",
          "height": 513
        }
      },
      "source": [
        "plt.plot(history.history['val_accuracy'], linestyle = 'dotted')\n",
        "plt.plot(history.history['accuracy'])\n",
        "plt.show()\n",
        "plt.plot(history.history['val_loss'], linestyle='dotted')\n",
        "plt.plot(history.history['loss'])\n",
        "plt.show()"
      ],
      "execution_count": 0,
      "outputs": [
        {
          "output_type": "display_data",
          "data": {
            "image/png": "[encoded data removed]",
            "text/plain": [
              "<Figure size 432x288 with 1 Axes>"
            ]
          },
          "metadata": {
            "tags": [],
            "needs_background": "light"
          }
        },
        {
          "output_type": "display_data",
          "data": {
            "image/png": "[encoded data removed]",
            "text/plain": [
              "<Figure size 432x288 with 1 Axes>"
            ]
          },
          "metadata": {
            "tags": [],
            "needs_background": "light"
          }
        }
      ]
    },
    {
      "cell_type": "code",
      "metadata": {
        "id": "ps0AEhc5Bkr1",
        "colab_type": "code",
        "colab": {}
      },
      "source": [
        "learning_rate_reduction = ReduceLROnPlateau(monitor='val_acc', \n",
        "                                            patience=3, \n",
        "                                            verbose=1, \n",
        "                                            factor=0.5, \n",
        "                                            min_lr=0.00001)"
      ],
      "execution_count": 0,
      "outputs": []
    },
    {
      "cell_type": "code",
      "metadata": {
        "id": "LEUXDD8-1CUS",
        "colab_type": "code",
        "colab": {}
      },
      "source": [
        "model.compile(optimizer = 'adam', loss='categorical_crossentropy', metrics=['accuracy'])"
      ],
      "execution_count": 0,
      "outputs": []
    },
    {
      "cell_type": "code",
      "metadata": {
        "id": "BnUMZywe1YpQ",
        "colab_type": "code",
        "outputId": "4aa5cb13-9a6d-4407-f74e-39c7107c3422",
        "colab": {
          "base_uri": "https://localhost:8080/",
          "height": 759
        }
      },
      "source": [
        "history  = model.fit(X_train,y_train, epochs=20, batch_size=80,validation_split = 0.1, callbacks=[learning_rate_reduction])"
      ],
      "execution_count": 0,
      "outputs": [
        {
          "output_type": "stream",
          "text": [
            "Train on 54000 samples, validate on 6000 samples\n",
            "Epoch 1/20\n",
            "54000/54000 [==============================] - 134s 2ms/step - loss: 0.0634 - accuracy: 0.9847 - val_loss: 0.0539 - val_accuracy: 0.9877\n",
            "Epoch 2/20\n",
            "   80/54000 [..............................] - ETA: 2:07 - loss: 0.0557 - accuracy: 0.9875"
          ],
          "name": "stdout"
        },
        {
          "output_type": "stream",
          "text": [
            "/usr/local/lib/python3.6/dist-packages/keras/callbacks/callbacks.py:1042: RuntimeWarning: Reduce LR on plateau conditioned on metric `val_acc` which is not available. Available metrics are: val_loss,val_accuracy,loss,accuracy,lr\n",
            "  (self.monitor, ','.join(list(logs.keys()))), RuntimeWarning\n"
          ],
          "name": "stderr"
        },
        {
          "output_type": "stream",
          "text": [
            "54000/54000 [==============================] - 134s 2ms/step - loss: 0.0509 - accuracy: 0.9870 - val_loss: 0.0425 - val_accuracy: 0.9902\n",
            "Epoch 3/20\n",
            "54000/54000 [==============================] - 134s 2ms/step - loss: 0.0506 - accuracy: 0.9867 - val_loss: 0.0351 - val_accuracy: 0.9922\n",
            "Epoch 4/20\n",
            "54000/54000 [==============================] - 134s 2ms/step - loss: 0.0462 - accuracy: 0.9879 - val_loss: 0.0398 - val_accuracy: 0.9920\n",
            "Epoch 5/20\n",
            "54000/54000 [==============================] - 133s 2ms/step - loss: 0.0389 - accuracy: 0.9893 - val_loss: 0.0371 - val_accuracy: 0.9930\n",
            "Epoch 6/20\n",
            "54000/54000 [==============================] - 133s 2ms/step - loss: 0.0420 - accuracy: 0.9886 - val_loss: 0.0341 - val_accuracy: 0.9915\n",
            "Epoch 7/20\n",
            "54000/54000 [==============================] - 133s 2ms/step - loss: 0.0390 - accuracy: 0.9895 - val_loss: 0.0439 - val_accuracy: 0.9917\n",
            "Epoch 8/20\n",
            "54000/54000 [==============================] - 133s 2ms/step - loss: 0.0408 - accuracy: 0.9889 - val_loss: 0.0358 - val_accuracy: 0.9923\n",
            "Epoch 9/20\n",
            "54000/54000 [==============================] - 133s 2ms/step - loss: 0.0350 - accuracy: 0.9907 - val_loss: 0.0319 - val_accuracy: 0.9923\n",
            "Epoch 10/20\n",
            "54000/54000 [==============================] - 133s 2ms/step - loss: 0.0339 - accuracy: 0.9904 - val_loss: 0.0306 - val_accuracy: 0.9925\n",
            "Epoch 11/20\n",
            "54000/54000 [==============================] - 133s 2ms/step - loss: 0.0336 - accuracy: 0.9910 - val_loss: 0.0265 - val_accuracy: 0.9947\n",
            "Epoch 12/20\n",
            "54000/54000 [==============================] - 133s 2ms/step - loss: 0.0320 - accuracy: 0.9909 - val_loss: 0.0308 - val_accuracy: 0.9937\n",
            "Epoch 13/20\n",
            "54000/54000 [==============================] - 136s 3ms/step - loss: 0.0293 - accuracy: 0.9912 - val_loss: 0.0276 - val_accuracy: 0.9927\n",
            "Epoch 14/20\n",
            "54000/54000 [==============================] - 138s 3ms/step - loss: 0.0289 - accuracy: 0.9921 - val_loss: 0.0301 - val_accuracy: 0.9933\n",
            "Epoch 15/20\n",
            "54000/54000 [==============================] - 138s 3ms/step - loss: 0.0305 - accuracy: 0.9914 - val_loss: 0.0285 - val_accuracy: 0.9935\n",
            "Epoch 16/20\n",
            "54000/54000 [==============================] - 137s 3ms/step - loss: 0.0268 - accuracy: 0.9927 - val_loss: 0.0283 - val_accuracy: 0.9935\n",
            "Epoch 17/20\n",
            "54000/54000 [==============================] - 136s 3ms/step - loss: 0.0291 - accuracy: 0.9921 - val_loss: 0.0284 - val_accuracy: 0.9923\n",
            "Epoch 18/20\n",
            "54000/54000 [==============================] - 134s 2ms/step - loss: 0.0277 - accuracy: 0.9921 - val_loss: 0.0292 - val_accuracy: 0.9922\n",
            "Epoch 19/20\n",
            "54000/54000 [==============================] - 134s 2ms/step - loss: 0.0262 - accuracy: 0.9927 - val_loss: 0.0289 - val_accuracy: 0.9942\n",
            "Epoch 20/20\n",
            "54000/54000 [==============================] - 134s 2ms/step - loss: 0.0262 - accuracy: 0.9926 - val_loss: 0.0283 - val_accuracy: 0.9937\n"
          ],
          "name": "stdout"
        }
      ]
    },
    {
      "cell_type": "code",
      "metadata": {
        "id": "Yyq7SFwV2Nfs",
        "colab_type": "code",
        "outputId": "5568f485-afe8-4211-8715-59dd3454b2bc",
        "colab": {
          "base_uri": "https://localhost:8080/",
          "height": 545
        }
      },
      "source": [
        "plt.plot(history.history['val_accuracy'])\n",
        "plt.plot(history.history['accuracy'], linestyle='dotted')\n",
        "plt.title(\"Accuracy after learning rate decay\")\n",
        "plt.show()\n",
        "plt.plot(history.history['val_loss'])\n",
        "plt.plot(history.history['loss'],linestyle='dotted')\n",
        "plt.title(\"Loss after learning rate decay\")\n",
        "plt.show()"
      ],
      "execution_count": 0,
      "outputs": [
        {
          "output_type": "display_data",
          "data": {
            "image/png": "[encoded data removed]",
            "text/plain": [
              "<Figure size 432x288 with 1 Axes>"
            ]
          },
          "metadata": {
            "tags": [],
            "needs_background": "light"
          }
        },
        {
          "output_type": "display_data",
          "data": {
            "image/png": "[encoded data removed]",
            "text/plain": [
              "<Figure size 432x288 with 1 Axes>"
            ]
          },
          "metadata": {
            "tags": [],
            "needs_background": "light"
          }
        }
      ]
    },
    {
      "cell_type": "markdown",
      "metadata": {
        "id": "gGRn1y99MWZw",
        "colab_type": "text"
      },
      "source": [
        "Clearly we can see that by decreasing the learning rate after some iterations we have acheieved an accuracy of 99.26% and loss of 2.62% \\\n",
        "The results can be futher enhanced using Data Augmentation. "
      ]
    },
    {
      "cell_type": "code",
      "metadata": {
        "id": "N6Sp7z8h2zIb",
        "colab_type": "code",
        "colab": {}
      },
      "source": [
        "y_pred = model.predict(X_test)"
      ],
      "execution_count": 0,
      "outputs": []
    },
    {
      "cell_type": "code",
      "metadata": {
        "id": "_7E21ANZWMFh",
        "colab_type": "code",
        "outputId": "7486fd88-6c0e-4cf4-c757-bd33defe7493",
        "colab": {
          "base_uri": "https://localhost:8080/",
          "height": 34
        }
      },
      "source": [
        "score = model.evaluate(X_test,y_test)"
      ],
      "execution_count": 0,
      "outputs": [
        {
          "output_type": "stream",
          "text": [
            "10000/10000 [==============================] - 7s 675us/step\n"
          ],
          "name": "stdout"
        }
      ]
    },
    {
      "cell_type": "code",
      "metadata": {
        "id": "-BRoEDHbWQ7d",
        "colab_type": "code",
        "outputId": "0645d5e0-3f06-4abd-e0f4-fe698d9cfcaa",
        "colab": {
          "base_uri": "https://localhost:8080/",
          "height": 34
        }
      },
      "source": [
        "print(score)"
      ],
      "execution_count": 0,
      "outputs": [
        {
          "output_type": "stream",
          "text": [
            "[0.024490222215987522, 0.9932000041007996]\n"
          ],
          "name": "stdout"
        }
      ]
    },
    {
      "cell_type": "markdown",
      "metadata": {
        "id": "yKP6uaq9a492",
        "colab_type": "text"
      },
      "source": [
        "The test accuracy of the model is 99.32% with loss of 2.4%"
      ]
    }
  ]
}